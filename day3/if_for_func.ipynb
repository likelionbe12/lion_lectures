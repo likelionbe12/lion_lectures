{
 "cells": [
  {
   "cell_type": "code",
   "execution_count": null,
   "metadata": {},
   "outputs": [],
   "source": []
  },
  {
   "cell_type": "code",
   "execution_count": 177,
   "metadata": {},
   "outputs": [],
   "source": [
    "x =0\n",
    "while x<10:\n",
    "    print(x)\n",
    "    x +=1"
   ]
  },
  {
   "cell_type": "code",
   "execution_count": 134,
   "metadata": {},
   "outputs": [],
   "source": [
    "x = 0\n",
    "while True:\n",
    "    print(x)\n",
    "    x+=1\n",
    "    if x>=10:\n",
    "        break"
   ]
  },
  {
   "cell_type": "markdown",
   "metadata": {},
   "source": [
    "while 시간>=10:00 and 시간<=18:00:\n",
    "    장사하기\n",
    "    \n",
    "    if 재료가 소진:\n",
    "        break"
   ]
  },
  {
   "cell_type": "markdown",
   "metadata": {},
   "source": [
    "continue"
   ]
  },
  {
   "cell_type": "code",
   "execution_count": 141,
   "metadata": {},
   "outputs": [],
   "source": [
    "x = 1\n",
    "while True:\n",
    "    if x >5:break    \n",
    "    x+=1\n",
    "    if x%2==0:continue\n",
    "    print(x)\n",
    "print(\"코드가 종료되었습니다.\")"
   ]
  },
  {
   "cell_type": "code",
   "execution_count": 144,
   "metadata": {},
   "outputs": [],
   "source": [
    "a = [1,2,3,4,5]\n",
    "\n",
    "for val in a:\n",
    "    if val ==2:continue\n",
    "    print(val)\n",
    "    if val >3:break\n",
    "    "
   ]
  },
  {
   "cell_type": "markdown",
   "metadata": {},
   "source": [
    "특정 단어 개수 세기"
   ]
  },
  {
   "cell_type": "markdown",
   "metadata": {},
   "source": [
    "- 사용자가 문자열을 입력하면, 그안에 python 몇번 나오나 체크\n",
    "- -> 많은 양의 텍스트를 입력하고, 사용자가 찾고자 하는 단어를 입력하면 몇번 나오나 체크"
   ]
  },
  {
   "cell_type": "code",
   "execution_count": 168,
   "metadata": {},
   "outputs": [],
   "source": [
    "# 많은 양의 텍스트 입력받아 변수에 담기\n",
    "large_text =\"\"\"\n",
    "# 조건문>\n",
    "\n",
    "## 1. 필요성\n",
    "\n",
    "조건문은 프로그램이 다양한 상황에 따라 다르게 반응할 수 있도록 해줍니다. 사용자의 입력, 데이터의 특성, 외부 이벤트 등에 기반하여 결정을 내리고, 해당 조건에 맞는 적절한 코드를 실행시키는 데 필요합니다. 이를 통해 프로그램은 더 동적이고, 유연하며, 사용자 친화적으로 작동할 수 있습니다.\n",
    "\n",
    "## 2. 관련 구성요소/용어 정리\n",
    "\n",
    "- **조건문(Conditional Statements)**: 특정 조건에 따라 서로 다른 코드 블록을 실행합니다. Python에서는 주로 **`if`**, **`elif`**, **`else`** 키워드를 사용합니다.\n",
    "- **불리언(Boolean)**: 참(True) 또는 거짓(False)의 값을 가지는 데이터 타입으로, 조건문에서 조건의 참/거짓을 평가할 때 사용됩니다.\n",
    "- **비교 연산자(Comparison Operators)**: 두 값을 비교하여 불리언 결과를 반환합니다. 예를 들어, **`==`**, **`!=`**, **`<`**, **`>`**, **`<=`**, **`>=`** 등이 있습니다.\n",
    "- **논리 연산자(Logical Operators)**: 불리언 값 사이의 논리적 연산을 수행합니다. 예를 들어, **`and`**, **`or`**, **`not`** 등이 있습니다.\n",
    "\"\"\"\n",
    "# 검색어 입력 받아 변수에 담기\n",
    "word = input(\"검색하고자 하는 단어 입력하세요 : \")\n",
    "# 찾는 단어 개수 세기 - 많은 양의 텍스트를 단어로 분리 -> 그 안에 검색어 있는지 확인 -> 있으면 세기\n",
    "split_texts = large_text.split()\n",
    "count = 0\n",
    "for text in split_texts:\n",
    "    if word in text:\n",
    "        count +=1\n",
    "# 결과 출력\n",
    "print(f\"찾고자 하는 단어 '{word}'은(는) {count}개 있습니다.\")"
   ]
  },
  {
   "cell_type": "code",
   "execution_count": 166,
   "metadata": {},
   "outputs": [],
   "source": [
    "# 연습 코드 활용하기\n",
    "test_lart_text = \"조건이 좋다, 조건이 훌륭하다\"\n",
    "test_word = \"조건\"\n",
    "\n",
    "split_texts = test_lart_text.split()\n",
    "count = 0\n",
    "for text in split_texts:\n",
    "    if test_word in text:\n",
    "        count +=1\n",
    "    # else:print(\"여긴 없음\")\n",
    "print(f\"찾고자 하는 단어 '{test_word}'은(는) {count}개 있습니다.\")"
   ]
  },
  {
   "cell_type": "markdown",
   "metadata": {},
   "source": [
    "피보나치 수열"
   ]
  },
  {
   "cell_type": "code",
   "execution_count": 169,
   "metadata": {},
   "outputs": [],
   "source": [
    "# 0 1 1 2 3 5 .....\n",
    "\n",
    "# 피보나치 수열에 대한 이해 - 앞의 두 항의 합이 다음항을 결정한다\n",
    "# 우리가 만들고자 하는 것은 이러한 항을 몇 개 나타낼 건지 사용자에게 숫자를 입력받고\n",
    "# 그 숫자만큼 수열을 만들어 내는 것이다\n",
    "\n",
    "# 사용자 입력으로 항의 개수 받기\n",
    "# 피보나치 수열의 초기항 2개 세팅\n",
    "# 사용자 입력 개수만큼 숫자를 생성"
   ]
  },
  {
   "cell_type": "code",
   "execution_count": 174,
   "metadata": {},
   "outputs": [],
   "source": [
    "number = int(input(\"피보나치 항 개수 입력 : \"))\n",
    "num1 = 0\n",
    "num2 = 1\n",
    "fibonacci = [num1, num2]\n",
    "for i in range(number):\n",
    "    next_number = num1 +num2\n",
    "    fibonacci.append(next_number)\n",
    "    num1 = num2\n",
    "    num2 = next_number\n",
    "print(fibonacci)"
   ]
  },
  {
   "cell_type": "code",
   "execution_count": 176,
   "metadata": {},
   "outputs": [],
   "source": [
    "number = 40\n",
    "for i in range(1, 40):\n",
    "    print(i, end=\" \")"
   ]
  },
  {
   "cell_type": "code",
   "execution_count": 188,
   "metadata": {},
   "outputs": [],
   "source": [
    "number = 40\n",
    "for i in range(1, 40):\n",
    "    if \"3\" in str(i) or \"6\" in str(i) or \"9\" in str(i):\n",
    "        print(\"짝\", end=\" \")\n",
    "    else:\n",
    "        print(i, end=\" \")"
   ]
  },
  {
   "cell_type": "code",
   "execution_count": 198,
   "metadata": {},
   "outputs": [],
   "source": [
    "number = 40\n",
    "for i in range(1, 40):\n",
    "    if \"3\" in str(i) or \"6\" in str(i) or \"9\" in str(i):\n",
    "        # print(i, end=\"\")\n",
    "        for n in str(i):\n",
    "            if \"3\" in n or \"6\" in n or \"9\" in n:\n",
    "                print(\"짝\", end=\"\")    \n",
    "        print(\" \", end=\"\")\n",
    "    else:\n",
    "        print(i, end=\" \")"
   ]
  },
  {
   "cell_type": "code",
   "execution_count": 183,
   "metadata": {},
   "outputs": [],
   "source": [
    "\"3\" in \"13\""
   ]
  },
  {
   "cell_type": "markdown",
   "metadata": {},
   "source": [
    "369 게임\n",
    "- 3, 6, 9 가 들어있으면 박수를 \"짝\"\n",
    "- 두번 들어가 있으면 두번, 세번이면 세번"
   ]
  },
  {
   "cell_type": "code",
   "execution_count": 175,
   "metadata": {},
   "outputs": [],
   "source": [
    "# 숫자가 1부터 차례대로 나온다\n",
    "# 그 숫자안에 3, 6, 9가 있으면 \"짝\" 프린트\n",
    "# 3, 6, 9가 몇번 있는지에 따라서 그 개수만큼 \"짝\"을 프린트"
   ]
  },
  {
   "cell_type": "code",
   "execution_count": 188,
   "metadata": {},
   "outputs": [],
   "source": [
    "number = 40\n",
    "for i in range(1, 40):\n",
    "    if \"3\" in str(i) or \"6\" in str(i) or \"9\" in str(i):\n",
    "        print(\"짝\", end=\" \")\n",
    "    else:\n",
    "        print(i, end=\" \")"
   ]
  },
  {
   "cell_type": "code",
   "execution_count": 199,
   "metadata": {},
   "outputs": [],
   "source": [
    "number = 40\n",
    "for i in range(1, 40):\n",
    "    if \"3\" in str(i) or \"6\" in str(i) or \"9\" in str(i):\n",
    "        # print(i, end=\"\")\n",
    "        for n in str(i):\n",
    "            if \"3\" in n or \"6\" in n or \"9\" in n:\n",
    "                print(\"짝\", end=\"\")    \n",
    "        print(\" \", end=\"\")\n",
    "    else:\n",
    "        print(i, end=\" \")"
   ]
  },
  {
   "cell_type": "code",
   "execution_count": 183,
   "metadata": {},
   "outputs": [
    {
     "data": {
      "text/plain": [
       "True"
      ]
     },
     "execution_count": 183,
     "metadata": {},
     "output_type": "execute_result"
    }
   ],
   "source": [
    "\"3\" in \"13\""
   ]
  }
 ],
 "metadata": {
  "kernelspec": {
   "display_name": "lion",
   "language": "python",
   "name": "python3"
  },
  "language_info": {
   "codemirror_mode": {
    "name": "ipython",
    "version": 3
   },
   "file_extension": ".py",
   "mimetype": "text/x-python",
   "name": "python",
   "nbconvert_exporter": "python",
   "pygments_lexer": "ipython3",
   "version": "3.10.15"
  }
 },
 "nbformat": 4,
 "nbformat_minor": 2
}
